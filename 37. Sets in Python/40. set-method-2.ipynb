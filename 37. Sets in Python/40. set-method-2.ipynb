{
 "cells": [
  {
   "cell_type": "markdown",
   "metadata": {},
   "source": [
    "## **Disjoint, Superset and Subset of sets and del statement and clear function on a set**"
   ]
  },
  {
   "cell_type": "markdown",
   "metadata": {},
   "source": [
    "### **1. Disjoint of sets**"
   ]
  },
  {
   "cell_type": "markdown",
   "metadata": {},
   "source": [
    "**`Set A` and `Set B` are disjoint if the intersection of `A and B is an empty set`**  \n",
    "\n",
    "**Notation: `A∩B=∅`**  \n",
    "\n",
    "**Python Check: `A.isdisjoint(B)`**"
   ]
  },
  {
   "cell_type": "code",
   "execution_count": 5,
   "metadata": {},
   "outputs": [
    {
     "name": "stdout",
     "output_type": "stream",
     "text": [
      "Wishlist and on_sale disjoint sets - It's False\n"
     ]
    }
   ],
   "source": [
    "wishlist = {\"Laptop\", \"Headphones\", \"Smartwatch\", \"Camera\", \"Tablet\"}\n",
    "on_sale = {\"Camera\", \"Laptop\", \"Tablet\"}\n",
    "\n",
    "print(f\"Wishlist and on_sale disjoint sets - It's {wishlist.isdisjoint(on_sale)}\")"
   ]
  },
  {
   "cell_type": "code",
   "execution_count": 6,
   "metadata": {},
   "outputs": [
    {
     "name": "stdout",
     "output_type": "stream",
     "text": [
      "Your preferences and your friends preferences are not same for a trip - It's True\n"
     ]
    }
   ],
   "source": [
    "your_preferences = {\"Manali\", \"Bali\"}\n",
    "friend_preferences = {\"Maldives\", \"Paris\"}\n",
    "\n",
    "print(f\"Your preferences and your friends preferences are not same for a trip - It's {your_preferences.isdisjoint(friend_preferences)}\")"
   ]
  },
  {
   "cell_type": "code",
   "execution_count": 13,
   "metadata": {},
   "outputs": [
    {
     "name": "stdout",
     "output_type": "stream",
     "text": [
      "True\n"
     ]
    }
   ],
   "source": [
    "a = your_preferences.isdisjoint(('Udaipur', 'Shimla'))\n",
    "print(a)"
   ]
  },
  {
   "cell_type": "markdown",
   "metadata": {},
   "source": [
    "### **2. Subset sets**"
   ]
  },
  {
   "cell_type": "markdown",
   "metadata": {},
   "source": [
    "**`Set A` is subset of `Set B` if all the elements of `Set A` are present in `Set B`!**  \n",
    "\n",
    "**Notation: `A ⊆ B`**  \n",
    "\n",
    "**Python Check: `A.issubset(B)` or `set A <= set B`**"
   ]
  },
  {
   "cell_type": "code",
   "execution_count": 10,
   "metadata": {},
   "outputs": [
    {
     "name": "stdout",
     "output_type": "stream",
     "text": [
      "Onsale is subset of wishlist - It's True\n",
      "Onsale is subset of wishlist using <= operator - It's True\n",
      "\n",
      "Wishlist is a subset of onsale products - It's False\n",
      "Wishlist is a subset of onsale products using <= operator - It's False\n"
     ]
    }
   ],
   "source": [
    "wishlist = {\"Laptop\", \"Headphones\", \"Smartwatch\", \"Camera\", \"Tablet\"}\n",
    "on_sale = {\"Camera\", \"Laptop\", \"Tablet\"}\n",
    "\n",
    "print(f\"Onsale is subset of wishlist - It's {on_sale.issubset(wishlist)}\")\n",
    "print(f\"Onsale is subset of wishlist using <= operator - It's {on_sale <= wishlist}\")\n",
    "print()\n",
    "\n",
    "print(f\"Wishlist is a subset of onsale products - It's {wishlist.issubset(on_sale)}\")\n",
    "print(f\"Wishlist is a subset of onsale products using <= operator - It's {wishlist <= on_sale}\")"
   ]
  },
  {
   "cell_type": "code",
   "execution_count": 16,
   "metadata": {},
   "outputs": [
    {
     "name": "stdout",
     "output_type": "stream",
     "text": [
      "False\n"
     ]
    }
   ],
   "source": [
    "maths_marks = {45, 78, 23, 99, 62, 71}\n",
    "b = maths_marks.issubset([70, 88, 62])\n",
    "print(b)"
   ]
  },
  {
   "cell_type": "markdown",
   "metadata": {},
   "source": [
    "### **3. Superset sets**"
   ]
  },
  {
   "cell_type": "markdown",
   "metadata": {},
   "source": [
    "**`Set A` is superset of `Set B` if all the elements of `Set B` are present in `Set A`!**  \n",
    "\n",
    "**Notation: `A ⊇ B`**  \n",
    "\n",
    "**Python Check: `A.issuperset(B)` or `set A >= set B`**"
   ]
  },
  {
   "cell_type": "code",
   "execution_count": 12,
   "metadata": {},
   "outputs": [
    {
     "name": "stdout",
     "output_type": "stream",
     "text": [
      "Onsale is superset of wishlist - It's False\n",
      "Onsale is superset of wishlist using >= operator - It's False\n",
      "\n",
      "Wishlist is a superset of onsale products - It's True\n",
      "Wishlist is a superset of onsale products using >= operator - It's True\n"
     ]
    }
   ],
   "source": [
    "wishlist = {\"Laptop\", \"Headphones\", \"Smartwatch\", \"Camera\", \"Tablet\"}\n",
    "on_sale = {\"Camera\", \"Laptop\", \"Tablet\"}\n",
    "\n",
    "print(f\"Onsale is superset of wishlist - It's {on_sale.issuperset(wishlist)}\")\n",
    "print(f\"Onsale is superset of wishlist using >= operator - It's {on_sale >= wishlist}\")\n",
    "print()\n",
    "\n",
    "print(f\"Wishlist is a superset of onsale products - It's {wishlist.issuperset(on_sale)}\")\n",
    "print(f\"Wishlist is a superset of onsale products using >= operator - It's {wishlist >= on_sale}\")"
   ]
  },
  {
   "cell_type": "code",
   "execution_count": 17,
   "metadata": {},
   "outputs": [
    {
     "name": "stdout",
     "output_type": "stream",
     "text": [
      "True\n"
     ]
    }
   ],
   "source": [
    "temperature = {23, 24, 30, 16, 20}\n",
    "c = temperature.issuperset([20, 30])\n",
    "print(c)"
   ]
  },
  {
   "cell_type": "markdown",
   "metadata": {},
   "source": [
    "### **4. clear function on a set**"
   ]
  },
  {
   "cell_type": "markdown",
   "metadata": {},
   "source": [
    "> **Removes all elements from the set but keeps the set itself.**  \n",
    "> **Result: The set becomes empty.**  \n",
    "> **If we apply clear on `set_a`**  \n",
    "> **set_a.clear()**  \n",
    "> **then result is `set_a = ∅`**"
   ]
  },
  {
   "cell_type": "code",
   "execution_count": 18,
   "metadata": {},
   "outputs": [
    {
     "name": "stdout",
     "output_type": "stream",
     "text": [
      "set()\n"
     ]
    }
   ],
   "source": [
    "active_ips = {192, 168, 1, 2, 3}\n",
    "active_ips.clear()\n",
    "print(active_ips)"
   ]
  },
  {
   "cell_type": "markdown",
   "metadata": {},
   "source": [
    "### **5. Del statement on a set**"
   ]
  },
  {
   "cell_type": "markdown",
   "metadata": {},
   "source": [
    "> **Deletes the entire set object, including its reference.** \n",
    "> **Result: The set is removed entirely, and accessing it afterward results in an error.**  \n",
    "> **If we use del on `set_a`**  \n",
    "> **del set_a**  \n",
    "> **then it will raise an error `NameError: name 'set_a' is not defined`**"
   ]
  },
  {
   "cell_type": "code",
   "execution_count": 19,
   "metadata": {},
   "outputs": [
    {
     "ename": "NameError",
     "evalue": "name 'system_a_users' is not defined",
     "output_type": "error",
     "traceback": [
      "\u001b[1;31m---------------------------------------------------------------------------\u001b[0m",
      "\u001b[1;31mNameError\u001b[0m                                 Traceback (most recent call last)",
      "Cell \u001b[1;32mIn[19], line 3\u001b[0m\n\u001b[0;32m      1\u001b[0m system_a_users \u001b[38;5;241m=\u001b[39m {\u001b[38;5;241m101\u001b[39m, \u001b[38;5;241m102\u001b[39m, \u001b[38;5;241m103\u001b[39m, \u001b[38;5;241m104\u001b[39m}\n\u001b[0;32m      2\u001b[0m \u001b[38;5;28;01mdel\u001b[39;00m system_a_users\n\u001b[1;32m----> 3\u001b[0m \u001b[38;5;28mprint\u001b[39m(\u001b[43msystem_a_users\u001b[49m)\n",
      "\u001b[1;31mNameError\u001b[0m: name 'system_a_users' is not defined"
     ]
    }
   ],
   "source": [
    "system_a_users = {101, 102, 103, 104}\n",
    "del system_a_users\n",
    "print(system_a_users)"
   ]
  },
  {
   "cell_type": "markdown",
   "metadata": {},
   "source": [
    "| **Aspect**        | **clear()**                      | **del**                        |\n",
    "|--------------------|----------------------------------|---------------------------------|\n",
    "| **Scope**          | Empties the set                 | Deletes the set object         |\n",
    "| **Set Existence**  | Set still exists (but is empty) | Set is completely removed      |\n",
    "| **Error Risk**     | No error after `clear()`        | Accessing set after `del` raises an error |"
   ]
  }
 ],
 "metadata": {
  "kernelspec": {
   "display_name": "Python 3",
   "language": "python",
   "name": "python3"
  },
  "language_info": {
   "codemirror_mode": {
    "name": "ipython",
    "version": 3
   },
   "file_extension": ".py",
   "mimetype": "text/x-python",
   "name": "python",
   "nbconvert_exporter": "python",
   "pygments_lexer": "ipython3",
   "version": "3.11.0"
  }
 },
 "nbformat": 4,
 "nbformat_minor": 2
}
