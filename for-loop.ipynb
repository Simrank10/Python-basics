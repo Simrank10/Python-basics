{
 "cells": [
  {
   "cell_type": "code",
   "execution_count": 1,
   "metadata": {},
   "outputs": [
    {
     "name": "stdout",
     "output_type": "stream",
     "text": [
      "A\n",
      "m\n",
      "a\n",
      "i\n",
      "r\n",
      "a\n",
      " \n",
      "T\n",
      "r\n",
      "i\n",
      "v\n",
      "e\n",
      "d\n",
      "i\n"
     ]
    }
   ],
   "source": [
    "name = \"Amaira Trivedi\"\n",
    "for i in name:\n",
    "    print(i)"
   ]
  },
  {
   "cell_type": "code",
   "execution_count": 2,
   "metadata": {},
   "outputs": [
    {
     "name": "stdout",
     "output_type": "stream",
     "text": [
      "Laptop\n",
      "iPhone\n",
      "Headsets\n",
      "Refrigerator\n"
     ]
    }
   ],
   "source": [
    "products = [\"Laptop\", \"iPhone\", \"Headsets\", \"Refrigerator\"]\n",
    "for product in products:\n",
    "    print(product)"
   ]
  },
  {
   "cell_type": "code",
   "execution_count": 2,
   "metadata": {},
   "outputs": [
    {
     "name": "stdout",
     "output_type": "stream",
     "text": [
      "Laptop\n",
      "Flash 30% off Sale on Laptop\n",
      "\n",
      "iPhone\n",
      "Upto 10% instant discount on iPhone\n",
      "\n",
      "Headsets\n",
      "Flash sale offers, hurry up to own your fav Headsets\n",
      "\n",
      "Refrigerator\n",
      "Upto 45% discount on Refrigerator\n"
     ]
    }
   ],
   "source": [
    "products = [\"Laptop\", \"iPhone\", \"Headsets\", \"Refrigerator\"]\n",
    "for product in products:\n",
    "    print(product)\n",
    "    if product == \"Laptop\":\n",
    "        print(f\"Flash 30% off Sale on {product}\")\n",
    "        print()\n",
    "    elif product == \"iPhone\":\n",
    "        print(f\"Upto 10% instant discount on {product}\")\n",
    "        print()\n",
    "    elif product == \"Headsets\":\n",
    "        print(f\"Flash sale offers, hurry up to own your fav {product}\")\n",
    "        print()\n",
    "    else:\n",
    "        print(f\"Upto 45% discount on {product}\")"
   ]
  },
  {
   "cell_type": "code",
   "execution_count": 5,
   "metadata": {},
   "outputs": [
    {
     "name": "stdout",
     "output_type": "stream",
     "text": [
      "3 square = 9\n",
      "36 square = 1296\n",
      "88 square = 7744\n",
      "25 square = 625\n",
      "100 square = 10000\n"
     ]
    }
   ],
   "source": [
    "nums = [3, 36, 88, 25, 100]\n",
    "for num in nums:\n",
    "    square = num**2\n",
    "    print(f\"{num} square = {square}\")"
   ]
  },
  {
   "cell_type": "code",
   "execution_count": 10,
   "metadata": {},
   "outputs": [
    {
     "name": "stdout",
     "output_type": "stream",
     "text": [
      "Squares of nums [22, 5, 17, 38, 91] = [484, 25, 289, 1444, 8281]\n"
     ]
    }
   ],
   "source": [
    "nums = [22, 5, 17, 38, 91]\n",
    "squares = []\n",
    "for num in nums:\n",
    "    square = num**2\n",
    "    squares.append(square)\n",
    "print(f\"Squares of nums [22, 5, 17, 38, 91] = {squares}\")"
   ]
  }
 ],
 "metadata": {
  "kernelspec": {
   "display_name": "Python 3",
   "language": "python",
   "name": "python3"
  },
  "language_info": {
   "codemirror_mode": {
    "name": "ipython",
    "version": 3
   },
   "file_extension": ".py",
   "mimetype": "text/x-python",
   "name": "python",
   "nbconvert_exporter": "python",
   "pygments_lexer": "ipython3",
   "version": "3.11.0"
  }
 },
 "nbformat": 4,
 "nbformat_minor": 2
}
