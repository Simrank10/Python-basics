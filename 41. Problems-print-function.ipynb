{
 "cells": [
  {
   "cell_type": "markdown",
   "metadata": {},
   "source": [
    "## **Q1. Formatted Output**\n",
    "**Print the following using a single print() statement:**  \n",
    "\n",
    "*Name: Arvind Rathod*  \n",
    "*Age: 35*  \n",
    "*Profession: Data Scientist*  "
   ]
  },
  {
   "cell_type": "code",
   "execution_count": 2,
   "metadata": {},
   "outputs": [
    {
     "name": "stdout",
     "output_type": "stream",
     "text": [
      "Name: Arvind Rathod \n",
      "Age: 35 \n",
      "Profession: Data Scientist\n"
     ]
    }
   ],
   "source": [
    "print(\"Name: Arvind Rathod \\nAge: 35 \\nProfession: Data Scientist\")"
   ]
  },
  {
   "cell_type": "markdown",
   "metadata": {},
   "source": [
    "> **Used Escape characters \\n**"
   ]
  },
  {
   "cell_type": "markdown",
   "metadata": {},
   "source": [
    "## **Q2. Dynamic String Formatting**\n",
    "**Write a program to print:**  \n",
    "\n",
    "*5 + 3 = 8* \n",
    " \n",
    "*Using variables for 5, 3, and 8. Replace the numbers dynamically in the string.*"
   ]
  },
  {
   "cell_type": "code",
   "execution_count": 3,
   "metadata": {},
   "outputs": [
    {
     "name": "stdout",
     "output_type": "stream",
     "text": [
      "5 + 3 = 8\n"
     ]
    }
   ],
   "source": [
    "a = 5\n",
    "b = 3\n",
    "\n",
    "print(f\"{a} + {b} = {a+b}\")"
   ]
  },
  {
   "cell_type": "markdown",
   "metadata": {},
   "source": [
    "## **Q3. Repeating strings**\n",
    "**Print the word \"Seldom\" 5 times on the same line, separated by a comma**  "
   ]
  },
  {
   "cell_type": "code",
   "execution_count": 6,
   "metadata": {},
   "outputs": [
    {
     "name": "stdout",
     "output_type": "stream",
     "text": [
      "Seldom, Seldom, Seldom, Seldom, Seldom, \n"
     ]
    }
   ],
   "source": [
    "print(\"Seldom, \"*5)"
   ]
  },
  {
   "cell_type": "code",
   "execution_count": 8,
   "metadata": {},
   "outputs": [
    {
     "name": "stdout",
     "output_type": "stream",
     "text": [
      "Seldom, Seldom, Seldom, Seldom, Seldom\n"
     ]
    }
   ],
   "source": [
    "print((\"Seldom, \" * 5).rstrip(\", \"))"
   ]
  },
  {
   "cell_type": "markdown",
   "metadata": {},
   "source": [
    "## **Q4. Right-Aligned Output**\n",
    "**Print numbers from 1 to 10 in a right-aligned format (each number should occupy 4 spaces)**  \n",
    "\n",
    "*1*  \n",
    "*2*  \n",
    "*3*  \n",
    "*...*  \n",
    "*10*  "
   ]
  },
  {
   "cell_type": "code",
   "execution_count": 3,
   "metadata": {},
   "outputs": [
    {
     "name": "stdout",
     "output_type": "stream",
     "text": [
      "   0\n",
      "   1\n",
      "   2\n",
      "   3\n",
      "   4\n",
      "   5\n",
      "   6\n",
      "   7\n",
      "   8\n",
      "   9\n",
      "  10\n"
     ]
    }
   ],
   "source": [
    "for i in range(0, 11):\n",
    "    print(f\"{i:>4}\")"
   ]
  },
  {
   "cell_type": "markdown",
   "metadata": {},
   "source": [
    "## **Q5. Concatenation without a newline**\n",
    "**Print the following in a single line (without starting a new line after each print() call):**  \n",
    "\n",
    "*Welcome to Python programming!*  "
   ]
  },
  {
   "cell_type": "code",
   "execution_count": 5,
   "metadata": {},
   "outputs": [
    {
     "name": "stdout",
     "output_type": "stream",
     "text": [
      "Welcome to Python programming!\n"
     ]
    }
   ],
   "source": [
    "print(\"Welcome\", end = \" \")\n",
    "print(\"to\", end = \" \")\n",
    "print(\"Python\", end = \" \")\n",
    "print(\"programming!\")\n"
   ]
  },
  {
   "cell_type": "markdown",
   "metadata": {},
   "source": [
    ">  **using end = \" \" to print next print line in the same line rather than using \\n**"
   ]
  },
  {
   "cell_type": "markdown",
   "metadata": {},
   "source": [
    "## **Q6. Pyramid Pattern**\n",
    "**Print the following pyramid using a loop and print()**  \n",
    "\n",
    "&nbsp;&nbsp;&nbsp;&nbsp;&nbsp;*  \n",
    "&nbsp;&nbsp;&nbsp;&nbsp;***  \n",
    "&nbsp;&nbsp;&nbsp;*****  \n",
    "&nbsp;&nbsp;*******  \n",
    "&nbsp;*********\n",
    "\n",
    "   "
   ]
  },
  {
   "cell_type": "code",
   "execution_count": null,
   "metadata": {},
   "outputs": [],
   "source": []
  },
  {
   "cell_type": "markdown",
   "metadata": {},
   "source": [
    "## **Q7. Dynamic table generation**\n",
    "**Write a program to print the multiplication table of a number n, formatted neatly. For example, if n=5:**  \n",
    "\n",
    "*5 x 1 = 5*  \n",
    "*5 x 2 = 10*  \n",
    "*...*  \n",
    "*5 x 10 = 50*"
   ]
  },
  {
   "cell_type": "markdown",
   "metadata": {},
   "source": [
    "## **Q8. Nested loop pattern**\n",
    "**Print the following pattern (use print() inside nested loops):**  \n",
    "\n",
    "*1*  \n",
    "*2 2*  \n",
    "*3 3 3*  \n",
    "*4 4 4 4*  \n",
    "*5 5 5 5 5*  "
   ]
  }
 ],
 "metadata": {
  "kernelspec": {
   "display_name": "Python 3",
   "language": "python",
   "name": "python3"
  },
  "language_info": {
   "codemirror_mode": {
    "name": "ipython",
    "version": 3
   },
   "file_extension": ".py",
   "mimetype": "text/x-python",
   "name": "python",
   "nbconvert_exporter": "python",
   "pygments_lexer": "ipython3",
   "version": "3.11.0"
  }
 },
 "nbformat": 4,
 "nbformat_minor": 2
}
