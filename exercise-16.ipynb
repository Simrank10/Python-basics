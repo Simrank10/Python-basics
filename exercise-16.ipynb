{
 "cells": [
  {
   "cell_type": "markdown",
   "metadata": {},
   "source": [
    "# **Check whether a number is prime or not by defining a function.**"
   ]
  },
  {
   "cell_type": "markdown",
   "metadata": {},
   "source": [
    "### **METHOD 1 - Using range(2, num) (Check All Numbers Up to n-1)**"
   ]
  },
  {
   "cell_type": "code",
   "execution_count": null,
   "metadata": {},
   "outputs": [
    {
     "name": "stdout",
     "output_type": "stream",
     "text": [
      "Number 23489991 is Prime number!\n"
     ]
    }
   ],
   "source": [
    "def prime_check(num):\n",
    "    if num <= 1:\n",
    "        print(\"1 is neither a prime nor a composite number\")\n",
    "    else:\n",
    "        prime = True\n",
    "        for i in range(2, num):\n",
    "            if num%i == 0:\n",
    "                prime = False\n",
    "            break\n",
    "\n",
    "        if prime == True:\n",
    "            print(f\"Number {n} is Prime number!\")\n",
    "        else:\n",
    "            print(f\"Number {n} is  Prime number!\")\n",
    "\n",
    "\n",
    "n = int(input(\"Enter a no : \"))\n",
    "prime_check(n)"
   ]
  },
  {
   "cell_type": "markdown",
   "metadata": {},
   "source": [
    "### **METHOD 2 - Using range(2, ceil(num/2) + 1) (Check Up to Half of the Number)**"
   ]
  },
  {
   "cell_type": "code",
   "execution_count": 6,
   "metadata": {},
   "outputs": [
    {
     "name": "stdout",
     "output_type": "stream",
     "text": [
      "Number 34578 is not prime!\n"
     ]
    }
   ],
   "source": [
    "import math\n",
    "\n",
    "def prime_check(num):\n",
    "    if num <= 1:\n",
    "        prime = False\n",
    "        print(\"1 is neither prime nor composite\")\n",
    "    else:\n",
    "        prime = True\n",
    "        for i in range(2, math.ceil(num/2)+1):\n",
    "            if num%i == 0:\n",
    "                prime = False\n",
    "                break\n",
    "        \n",
    "        if prime:\n",
    "            print(f\"Number {n} is Prime!\")\n",
    "        else:\n",
    "            print(f\"Number {n} is not prime!\")\n",
    "\n",
    "\n",
    "n = int(input(\"Enter a no : \"))\n",
    "prime_check(n)"
   ]
  },
  {
   "cell_type": "markdown",
   "metadata": {},
   "source": [
    "### **METHOD 3 - Using range(2, ceil(sqrt(num)) + 1) (Check Up to Square Root)**"
   ]
  },
  {
   "cell_type": "code",
   "execution_count": 8,
   "metadata": {},
   "outputs": [
    {
     "name": "stdout",
     "output_type": "stream",
     "text": [
      "Number 2347899172 is not Prime number!\n"
     ]
    }
   ],
   "source": [
    "from math import sqrt, ceil\n",
    "\n",
    "def prime_checker(num):\n",
    "    if num <= 1:\n",
    "        prime = False\n",
    "        print(\"1 is neither prime nor composite\")\n",
    "    else:\n",
    "        prime = True\n",
    "        for i in range(2, ceil(sqrt(num)) + 1):\n",
    "            if num%i == 0:\n",
    "                prime = False\n",
    "                break\n",
    "\n",
    "        if prime:\n",
    "            print(f\"Number {n} is Prime number!\")\n",
    "        else:\n",
    "            print(f\"Number {n} is not Prime number!\")\n",
    "\n",
    "\n",
    "n = int(input(\"Enter a no : \"))\n",
    "prime_checker(n)"
   ]
  },
  {
   "cell_type": "markdown",
   "metadata": {},
   "source": [
    "### **METHOD 4 - Optimised approach for even numbers**"
   ]
  },
  {
   "cell_type": "markdown",
   "metadata": {},
   "source": [
    "* Immediately handles even numbers.\n",
    "* Checks only odd divisors starting from 3, skipping unnecessary checks."
   ]
  },
  {
   "cell_type": "code",
   "execution_count": 10,
   "metadata": {},
   "outputs": [
    {
     "name": "stdout",
     "output_type": "stream",
     "text": [
      "Number 25127617911 is not a Prime!\n"
     ]
    }
   ],
   "source": [
    "from math import ceil, sqrt\n",
    "\n",
    "def prime_check(num):\n",
    "    if num <1:\n",
    "        prime = False\n",
    "        print(\"1 is neither prime nor composite!\")\n",
    "    elif num == 2:\n",
    "        prime = True\n",
    "        print(f\"Number {n} is Prime!\")\n",
    "    elif num%2 == 0:\n",
    "        prime = False\n",
    "        print(f\"Number {n} is not a Prime!\")\n",
    "    else:\n",
    "        prime = True\n",
    "        for i in range(3, ceil(sqrt(num))+1, 2):\n",
    "            if num%i == 0:\n",
    "                prime = False\n",
    "                break\n",
    "            \n",
    "        if prime:\n",
    "            print(f\"Number {n} is Prime!\")\n",
    "        else:\n",
    "            print(f\"Number {n} is not a Prime!\")\n",
    "\n",
    "n = int(input(\"enter a number : \"))\n",
    "prime_check(n)"
   ]
  },
  {
   "cell_type": "code",
   "execution_count": null,
   "metadata": {},
   "outputs": [],
   "source": []
  }
 ],
 "metadata": {
  "kernelspec": {
   "display_name": "Python 3",
   "language": "python",
   "name": "python3"
  },
  "language_info": {
   "codemirror_mode": {
    "name": "ipython",
    "version": 3
   },
   "file_extension": ".py",
   "mimetype": "text/x-python",
   "name": "python",
   "nbconvert_exporter": "python",
   "pygments_lexer": "ipython3",
   "version": "3.11.0"
  }
 },
 "nbformat": 4,
 "nbformat_minor": 2
}
