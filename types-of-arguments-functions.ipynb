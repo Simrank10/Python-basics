{
 "cells": [
  {
   "cell_type": "code",
   "execution_count": 1,
   "metadata": {},
   "outputs": [
    {
     "name": "stdout",
     "output_type": "stream",
     "text": [
      "Hi, Tanuja\n",
      "Are you from, Mathematics department?\n"
     ]
    }
   ],
   "source": [
    "def greet(name, dept):\n",
    "    print(f\"Hi, {name}\")\n",
    "    print(f\"Are you from, {dept} department?\")\n",
    "greet(\"Tanuja\", \"Mathematics\")"
   ]
  },
  {
   "cell_type": "code",
   "execution_count": 9,
   "metadata": {},
   "outputs": [
    {
     "name": "stdout",
     "output_type": "stream",
     "text": [
      "Hi, Mathemtics\n",
      "Are you from, Radhika department?\n",
      "\n",
      "           Above, won't make any sense, obviously!\n"
     ]
    }
   ],
   "source": [
    "# what if user enters Mathematics first and then name?\n",
    "greet(\"Mathemtics\", \"Radhika\")\n",
    "print()\n",
    "print(\"           Above, won't make any sense, obviously!\")"
   ]
  },
  {
   "cell_type": "markdown",
   "metadata": {},
   "source": [
    "# **Positional Arguments**"
   ]
  },
  {
   "cell_type": "markdown",
   "metadata": {},
   "source": [
    "### These arguments look for association of the arguments value to the parameters of the function and straight away assigns the value according to the position."
   ]
  },
  {
   "cell_type": "code",
   "execution_count": 12,
   "metadata": {},
   "outputs": [
    {
     "name": "stdout",
     "output_type": "stream",
     "text": [
      "Hi, Mithisha\n",
      "Are you from, Literature department?\n"
     ]
    }
   ],
   "source": [
    "greet(\"Mithisha\", \"Literature\")"
   ]
  },
  {
   "cell_type": "markdown",
   "metadata": {},
   "source": [
    "# **Keyword Arguments**"
   ]
  },
  {
   "cell_type": "markdown",
   "metadata": {},
   "source": [
    "### In the we use parameters to associate with the argument values while we call the function. This would take argument values in the correct sequence with parameter values."
   ]
  },
  {
   "cell_type": "code",
   "execution_count": 4,
   "metadata": {},
   "outputs": [
    {
     "name": "stdout",
     "output_type": "stream",
     "text": [
      "Hi, Vihana\n",
      "Are you from, IT department?\n"
     ]
    }
   ],
   "source": [
    "greet(name = \"Vihana\", dept = \"IT\")"
   ]
  },
  {
   "cell_type": "code",
   "execution_count": 7,
   "metadata": {},
   "outputs": [
    {
     "name": "stdout",
     "output_type": "stream",
     "text": [
      "Hi, Vihana\n",
      "Are you from, IT department?\n",
      "\n",
      "       It works and makes sense!\n"
     ]
    }
   ],
   "source": [
    "# let's shuffle the argument sequence first dept and then name\n",
    "greet(dept = \"IT\", name = \"Vihana\")\n",
    "print()\n",
    "print(\"       It works and makes sense!\")"
   ]
  },
  {
   "cell_type": "markdown",
   "metadata": {},
   "source": [
    "# **Mixture of Keyword Argument and Positional Argument**"
   ]
  },
  {
   "cell_type": "markdown",
   "metadata": {},
   "source": [
    "> **Note** - Keyword argument should be after the Positional argument i.e., Keyword arguments should follow Positional arguments!"
   ]
  },
  {
   "cell_type": "code",
   "execution_count": 10,
   "metadata": {},
   "outputs": [
    {
     "name": "stdout",
     "output_type": "stream",
     "text": [
      "Hi, Vihana\n",
      "Are you from, IT department?\n"
     ]
    }
   ],
   "source": [
    "greet(\"Vihana\", dept = \"IT\")"
   ]
  },
  {
   "cell_type": "code",
   "execution_count": 11,
   "metadata": {},
   "outputs": [
    {
     "ename": "SyntaxError",
     "evalue": "positional argument follows keyword argument (3280222494.py, line 1)",
     "output_type": "error",
     "traceback": [
      "\u001b[1;36m  Cell \u001b[1;32mIn[11], line 1\u001b[1;36m\u001b[0m\n\u001b[1;33m    greet(name = \"Vihana\", \"IT\")\u001b[0m\n\u001b[1;37m                               ^\u001b[0m\n\u001b[1;31mSyntaxError\u001b[0m\u001b[1;31m:\u001b[0m positional argument follows keyword argument\n"
     ]
    }
   ],
   "source": [
    "greet(name = \"Vihana\", \"IT\")"
   ]
  },
  {
   "cell_type": "markdown",
   "metadata": {},
   "source": [
    "# **Default Arguments**"
   ]
  },
  {
   "cell_type": "markdown",
   "metadata": {},
   "source": [
    "### It's a parameter in a function that already has a preset value. If you don't provide a value for that parameter when calling the function, it automatically uses the default value."
   ]
  },
  {
   "cell_type": "markdown",
   "metadata": {},
   "source": [
    "> **NOTE -** Default args should be provided after the non-default args"
   ]
  },
  {
   "cell_type": "code",
   "execution_count": 2,
   "metadata": {},
   "outputs": [
    {
     "name": "stdout",
     "output_type": "stream",
     "text": [
      "Hey, am I speaking to Nayantara?\n",
      "I got to know you are from IT department.\n",
      "Do you teach Python to students?\n"
     ]
    }
   ],
   "source": [
    "def greeting(name, subject, dept = \"IT\"):\n",
    "    print(f\"Hey, am I speaking to {name}?\")\n",
    "    print(f\"I got to know you are from {dept} department.\") # it will take default value in case user fails to input dept\n",
    "    print(f\"Do you teach {subject} to students?\")\n",
    "greeting(\"Nayantara\", \"Python\")"
   ]
  },
  {
   "cell_type": "code",
   "execution_count": 4,
   "metadata": {},
   "outputs": [
    {
     "name": "stdout",
     "output_type": "stream",
     "text": [
      "Hey, am I speaking to Nayantara?\n",
      "I got to know you are from IT department.\n",
      "Do you teach C++ to students?\n",
      "\n",
      "    If user inputs value to the default value, the default value gets override by the input value!\n"
     ]
    }
   ],
   "source": [
    "greeting(\"Nayantara\", \"C++\", \"IT\")\n",
    "print()\n",
    "print(\"    If user inputs value to the default value, the default value gets override by the input value!\")"
   ]
  },
  {
   "cell_type": "markdown",
   "metadata": {},
   "source": [
    "# **Abitrary arguments / Variable length arguments**"
   ]
  },
  {
   "cell_type": "markdown",
   "metadata": {},
   "source": [
    "## **1. AP args - Arbitrary Positional Arguments**"
   ]
  },
  {
   "cell_type": "markdown",
   "metadata": {},
   "source": [
    "> **Note -** we use `*args`    \n",
    "> like  \n",
    "\n",
    "def add(*num):  \n",
    "    ------  \n",
    "    ------  \n",
    "add(argument values)  "
   ]
  },
  {
   "cell_type": "code",
   "execution_count": 6,
   "metadata": {},
   "outputs": [
    {
     "name": "stdout",
     "output_type": "stream",
     "text": [
      "The sum of (100, 88, 54, 44, 36) is 322\n"
     ]
    }
   ],
   "source": [
    "def add(*numbers):\n",
    "    c = 0\n",
    "    for i in numbers:\n",
    "        c += i\n",
    "    print(f\"The sum of {numbers} is {c}\")\n",
    "add(100, 88, 54, 44, 36)"
   ]
  },
  {
   "cell_type": "markdown",
   "metadata": {},
   "source": [
    "## **2. AK args - Arbitrary Keyword Arguments**"
   ]
  },
  {
   "cell_type": "markdown",
   "metadata": {},
   "source": [
    "> **Note -** we use `**kwargs`    \n",
    "> like  \n",
    "\n",
    "def details(**kwargs):\n",
    "    for key, value in kwargs.items():\n",
    "    ------  \n",
    "    ------  \n",
    "deatils(argument values)  "
   ]
  },
  {
   "cell_type": "code",
   "execution_count": 11,
   "metadata": {},
   "outputs": [
    {
     "name": "stdout",
     "output_type": "stream",
     "text": [
      "name Devika\n",
      "Age 23\n"
     ]
    }
   ],
   "source": [
    "def info_person(**kwargs):\n",
    "    for key, value in kwargs.items():\n",
    "        print(key, value)\n",
    "info_person(name = \"Devika\", Age = 23)"
   ]
  },
  {
   "cell_type": "code",
   "execution_count": 18,
   "metadata": {},
   "outputs": [
    {
     "name": "stdout",
     "output_type": "stream",
     "text": [
      "name Ragini\n",
      "age 30\n",
      "(23, 301, 40000)\n"
     ]
    }
   ],
   "source": [
    "def data(*args, **kwargs):\n",
    "    for key, value in kwargs.items():\n",
    "        print(key, value)\n",
    "    print(args)\n",
    "data(23, 301, 40000, name = \"Ragini\", age = 30)"
   ]
  },
  {
   "cell_type": "code",
   "execution_count": 20,
   "metadata": {},
   "outputs": [
    {
     "name": "stdout",
     "output_type": "stream",
     "text": [
      "Multiplication of (2, 3, -6, 8) is -288\n",
      "Multiplication of (2, 5, 8, 9, 0, 6) is 0\n"
     ]
    }
   ],
   "source": [
    "def multiply(*numbers):\n",
    "    c = 1\n",
    "    for i in numbers:\n",
    "        c = c * i\n",
    "    print(f\"Multiplication of {numbers} is {c}\")\n",
    "multiply(2, 3, -6, 8)\n",
    "multiply(2, 5, 8, 9, 0, 6)"
   ]
  }
 ],
 "metadata": {
  "kernelspec": {
   "display_name": "Python 3",
   "language": "python",
   "name": "python3"
  },
  "language_info": {
   "codemirror_mode": {
    "name": "ipython",
    "version": 3
   },
   "file_extension": ".py",
   "mimetype": "text/x-python",
   "name": "python",
   "nbconvert_exporter": "python",
   "pygments_lexer": "ipython3",
   "version": "3.11.0"
  }
 },
 "nbformat": 4,
 "nbformat_minor": 2
}
