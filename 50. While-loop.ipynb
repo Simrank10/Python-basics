{
 "cells": [
  {
   "cell_type": "markdown",
   "metadata": {},
   "source": [
    "When you don't know in advance the number of iterations of the loop use WHILE loop"
   ]
  },
  {
   "cell_type": "code",
   "execution_count": 5,
   "metadata": {},
   "outputs": [
    {
     "name": "stdout",
     "output_type": "stream",
     "text": [
      "0\n",
      "1\n",
      "2\n",
      "3\n",
      "4\n",
      "5\n",
      "Out of while loop!\n"
     ]
    }
   ],
   "source": [
    "count = 0 # initialise!\n",
    "while count <= 5:\n",
    "    print(count)\n",
    "    count += 1\n",
    "print(\"Out of while loop!\")"
   ]
  },
  {
   "cell_type": "code",
   "execution_count": 3,
   "metadata": {},
   "outputs": [
    {
     "name": "stdout",
     "output_type": "stream",
     "text": [
      "5\n",
      "4\n",
      "3\n",
      "2\n",
      "1\n",
      "Out of while loop!\n"
     ]
    }
   ],
   "source": [
    "count = 5 # initialise!\n",
    "while count > 0:\n",
    "    print(count)\n",
    "    count -= 1\n",
    "print(\"Out of while loop!\")"
   ]
  },
  {
   "cell_type": "code",
   "execution_count": 6,
   "metadata": {},
   "outputs": [
    {
     "name": "stdout",
     "output_type": "stream",
     "text": [
      "0\n",
      "1\n",
      "2\n",
      "3\n",
      "4\n",
      "5\n",
      "Out of the while loop\n"
     ]
    }
   ],
   "source": [
    "count = 0\n",
    "while count<=5: print(count); count+= 1\n",
    "print(\"Out of the while loop\")"
   ]
  },
  {
   "cell_type": "code",
   "execution_count": 4,
   "metadata": {},
   "outputs": [
    {
     "name": "stdout",
     "output_type": "stream",
     "text": [
      "0\n",
      "1\n",
      "2\n",
      "3\n",
      "4\n",
      "5\n",
      "In else block!\n",
      "Loop executed successfully!\n"
     ]
    }
   ],
   "source": [
    "count = 0\n",
    "while count <= 5:\n",
    "    print(count)\n",
    "    count += 1\n",
    "else:\n",
    "    print(\"In else block!\")\n",
    "print(\"Loop executed successfully!\")"
   ]
  },
  {
   "cell_type": "code",
   "execution_count": 5,
   "metadata": {},
   "outputs": [
    {
     "name": "stdout",
     "output_type": "stream",
     "text": [
      "10\n",
      "9\n",
      "8\n",
      "7\n",
      "6\n",
      "5\n",
      "4\n",
      "3\n",
      "2\n",
      "1\n",
      "In else block!\n",
      "Loop statements executed\n"
     ]
    }
   ],
   "source": [
    "count = 10\n",
    "while count > 0:\n",
    "    print(count)\n",
    "    count -= 1\n",
    "else:\n",
    "    print(\"In else block!\")\n",
    "print(\"Loop statements executed\")"
   ]
  },
  {
   "cell_type": "code",
   "execution_count": 11,
   "metadata": {},
   "outputs": [
    {
     "name": "stdout",
     "output_type": "stream",
     "text": [
      "8\n",
      "6\n",
      "Loop terminated, else block not executed due to break, forceful termination of while loop!\n"
     ]
    }
   ],
   "source": [
    "count = 8\n",
    "while count > 0:\n",
    "    print(count)\n",
    "    count -= 2\n",
    "    if count == 4:\n",
    "        break\n",
    "else:\n",
    "    print(\"In else block?\")\n",
    "print(\"Loop terminated, else block not executed due to break, forceful termination of while loop!\")"
   ]
  },
  {
   "cell_type": "code",
   "execution_count": 14,
   "metadata": {},
   "outputs": [
    {
     "name": "stdout",
     "output_type": "stream",
     "text": [
      "9\n",
      "-10\n",
      "100\n",
      "3\n",
      "3\n",
      "3\n",
      "3\n",
      "in else block\n",
      "Loop executed!\n"
     ]
    }
   ],
   "source": [
    "number = int(input(\"Enter number (-1 to quit)\"))\n",
    "while number != -1:\n",
    "    print(number)\n",
    "    number = int(input(\"Enter number (-1 to quit)\"))\n",
    "else:\n",
    "    print(\"in else block\")\n",
    "print(\"Loop executed!\")"
   ]
  },
  {
   "cell_type": "code",
   "execution_count": 15,
   "metadata": {},
   "outputs": [
    {
     "name": "stdout",
     "output_type": "stream",
     "text": [
      "0\n",
      "1\n",
      "2\n",
      "3\n",
      "4\n",
      "5\n",
      "6\n",
      "Loop terminated\n"
     ]
    }
   ],
   "source": [
    "count = 0\n",
    "while True:\n",
    "    print(count)\n",
    "    count += 1\n",
    "    if count == 7:\n",
    "        break\n",
    "else:\n",
    "    print(\"in else block\")\n",
    "print(\"Loop terminated\")"
   ]
  }
 ],
 "metadata": {
  "kernelspec": {
   "display_name": "Python 3",
   "language": "python",
   "name": "python3"
  },
  "language_info": {
   "codemirror_mode": {
    "name": "ipython",
    "version": 3
   },
   "file_extension": ".py",
   "mimetype": "text/x-python",
   "name": "python",
   "nbconvert_exporter": "python",
   "pygments_lexer": "ipython3",
   "version": "3.11.0"
  }
 },
 "nbformat": 4,
 "nbformat_minor": 2
}
