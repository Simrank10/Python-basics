{
 "cells": [
  {
   "cell_type": "code",
   "execution_count": 5,
   "metadata": {},
   "outputs": [
    {
     "name": "stdout",
     "output_type": "stream",
     "text": [
      "Pizza\n",
      "Garlic bread\n",
      "burger\n",
      "coke\n",
      "fries\n",
      "\n",
      "Enjoy your meal!\n"
     ]
    }
   ],
   "source": [
    "menu = (\"Pizza\", \"Garlic bread\", \"burger\", \"coke\", \"fries\")\n",
    "for i in menu:\n",
    "    print(i)\n",
    "else:\n",
    "    print()\n",
    "    print(\"Enjoy your meal!\")"
   ]
  },
  {
   "cell_type": "code",
   "execution_count": 8,
   "metadata": {},
   "outputs": [
    {
     "name": "stdout",
     "output_type": "stream",
     "text": [
      "Pizza\n",
      "Garlic bread\n",
      "burger\n",
      "\n",
      "Currently, we have only have this much in our menu!\n"
     ]
    }
   ],
   "source": [
    "menu = (\"Pizza\", \"Garlic bread\", \"burger\", \"coke\", \"fries\")\n",
    "for i in menu:\n",
    "    print(i)\n",
    "    if i == \"burger\":\n",
    "        break\n",
    "else:\n",
    "    print()\n",
    "    print(\"Currently, we have only have this much in our menu!\")\n",
    "    \"\"\"\n",
    "    If you could notice this loop didnt got executed, bec we used break to forcefully get out of the loop,\n",
    "    which means there were few iterations that didn't got executed, so else loop fails to execute!\n",
    "    \"\"\"\n",
    "\n",
    "print()\n",
    "print(\"Currently, we have only have this much in our menu!\")\n"
   ]
  },
  {
   "cell_type": "code",
   "execution_count": 1,
   "metadata": {},
   "outputs": [
    {
     "name": "stdout",
     "output_type": "stream",
     "text": [
      "burger\n",
      "coke\n",
      "fries\n"
     ]
    }
   ],
   "source": [
    "menu = (\"Pizza\", \"Garlic bread\", \"burger\", \"coke\", \"fries\")\n",
    "start_printing = False\n",
    "for i in menu:\n",
    "    if i == \"burger\":\n",
    "        start_printing = True\n",
    "    if start_printing:\n",
    "        print(i)"
   ]
  },
  {
   "cell_type": "code",
   "execution_count": 1,
   "metadata": {},
   "outputs": [
    {
     "name": "stdout",
     "output_type": "stream",
     "text": [
      "23\n",
      "80\n",
      "45\n"
     ]
    }
   ],
   "source": [
    "tuple = (23, 80, 45, 61, 70, 9)\n",
    "for i in tuple:\n",
    "    print(i)\n",
    "    if i == 45:\n",
    "        break\n",
    "\n",
    "else:\n",
    "    (\"For loop successfully completed and we are in else block now!\")"
   ]
  },
  {
   "cell_type": "code",
   "execution_count": 2,
   "metadata": {},
   "outputs": [
    {
     "name": "stdout",
     "output_type": "stream",
     "text": [
      "23\n",
      "80\n",
      "45\n"
     ]
    }
   ],
   "source": [
    "tuple = (23, 80, 45, 61, 70, 9)\n",
    "for i in tuple:\n",
    "    print(i)\n",
    "    if i == 45:\n",
    "        break\n",
    "\n",
    "else:\n",
    "    (\"For loop successfully completed and we are in else block now!\")"
   ]
  },
  {
   "cell_type": "code",
   "execution_count": 22,
   "metadata": {},
   "outputs": [
    {
     "name": "stdout",
     "output_type": "stream",
     "text": [
      "number is not divisible by 6\n",
      "number is not divisible by 6\n",
      "number is not divisible by 6\n",
      "number is not divisible by 6\n",
      "number is not divisible by 6\n",
      "number is not divisible by 6\n"
     ]
    }
   ],
   "source": [
    "tuple = (23, 80, 45, 61, 70, 9)\n",
    "for i in tuple:\n",
    "    #print(i)\n",
    "    if i %6 == 0:\n",
    "        print(i)\n",
    "        break\n",
    "    else:\n",
    "        print(\"number is not divisible by 6\")\n",
    "else:\n",
    "    (\"For loop successfully completed and we are in else block now!\") "
   ]
  },
  {
   "cell_type": "code",
   "execution_count": 21,
   "metadata": {},
   "outputs": [
    {
     "name": "stdout",
     "output_type": "stream",
     "text": [
      "We checked divisibilty of numbers with 6 and there are no numbers divisble by 6!\n"
     ]
    }
   ],
   "source": [
    "tuple = (23, 80, 45, 61, 70, 9)\n",
    "for i in tuple:\n",
    "    #print(i)\n",
    "    if i %6 == 0:\n",
    "        print(i)\n",
    "        break\n",
    "else:\n",
    "    print(\"We checked divisibilty of numbers with 6 and there are no numbers divisble by 6!\")"
   ]
  }
 ],
 "metadata": {
  "kernelspec": {
   "display_name": "Python 3",
   "language": "python",
   "name": "python3"
  },
  "language_info": {
   "codemirror_mode": {
    "name": "ipython",
    "version": 3
   },
   "file_extension": ".py",
   "mimetype": "text/x-python",
   "name": "python",
   "nbconvert_exporter": "python",
   "pygments_lexer": "ipython3",
   "version": "3.11.0"
  }
 },
 "nbformat": 4,
 "nbformat_minor": 2
}
