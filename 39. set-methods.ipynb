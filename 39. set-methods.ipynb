{
 "cells": [
  {
   "cell_type": "markdown",
   "metadata": {},
   "source": [
    "## **Difference between sets**"
   ]
  },
  {
   "cell_type": "code",
   "execution_count": 1,
   "metadata": {},
   "outputs": [
    {
     "name": "stdout",
     "output_type": "stream",
     "text": [
      "Difference in features of Phone a with phone b : {'Waterproof', 'Face Unlock'}\n",
      "Difference in features of Phone b with phone a : {'Fingerprint Sensor'}\n"
     ]
    }
   ],
   "source": [
    "phone_a_fea = {\"5G\", \"Wireless Charging\", \"Waterproof\", \"Face Unlock\"}\n",
    "phone_b_fea = {\"5G\", \"Wireless Charging\", \"Fingerprint Sensor\"}\n",
    "phone_c_fea = {\"4G\", \"Wireless Charging\", \"High Storage\"}\n",
    "\n",
    "print(f\"Difference in features of Phone a with phone b : {phone_a_fea.difference(phone_b_fea)}\")\n",
    "print(f\"Difference in features of Phone b with phone a : {phone_b_fea.difference(phone_a_fea)}\")"
   ]
  },
  {
   "cell_type": "code",
   "execution_count": 2,
   "metadata": {},
   "outputs": [
    {
     "name": "stdout",
     "output_type": "stream",
     "text": [
      "Difference in features of Phone a with phone b using - operator : {'Waterproof', 'Face Unlock'}\n",
      "Difference in features of Phone b with phone a using - operator : {'Fingerprint Sensor'}\n"
     ]
    }
   ],
   "source": [
    "print(f\"Difference in features of Phone a with phone b using - operator : {phone_a_fea - phone_b_fea}\")\n",
    "print(f\"Difference in features of Phone b with phone a using - operator : {phone_b_fea - phone_a_fea}\")"
   ]
  },
  {
   "cell_type": "code",
   "execution_count": 3,
   "metadata": {},
   "outputs": [
    {
     "name": "stdout",
     "output_type": "stream",
     "text": [
      "Difference in features of Phone a with phone b and phone c : {'Waterproof', 'Face Unlock'}\n"
     ]
    }
   ],
   "source": [
    "print(f\"Difference in features of Phone a with phone b and phone c : {phone_a_fea.difference(phone_b_fea, phone_c_fea)}\")"
   ]
  },
  {
   "cell_type": "code",
   "execution_count": 10,
   "metadata": {},
   "outputs": [
    {
     "name": "stdout",
     "output_type": "stream",
     "text": [
      "Difference in features of 'Phone a' with a tuple ('High Storage', '40  MP', '5G') : {'Wireless Charging', 'Waterproof', 'Face Unlock'}\n"
     ]
    }
   ],
   "source": [
    "print(f\"Difference in features of 'Phone a' with a tuple ('High Storage', '40  MP', '5G') : {phone_a_fea.difference(('High Storage', '40  MP', '5G'))}\")"
   ]
  },
  {
   "cell_type": "code",
   "execution_count": 14,
   "metadata": {},
   "outputs": [
    {
     "name": "stdout",
     "output_type": "stream",
     "text": [
      "{'Fingerprint Sensor'}\n",
      "{'5G', 'Wireless Charging', 'Waterproof', 'Face Unlock'}\n"
     ]
    }
   ],
   "source": [
    "phone_b_fea.difference_update(phone_a_fea)\n",
    "print(phone_b_fea)\n",
    "print(phone_a_fea)"
   ]
  },
  {
   "cell_type": "markdown",
   "metadata": {},
   "source": [
    "## **Symmetric difference between sets**"
   ]
  },
  {
   "cell_type": "code",
   "execution_count": 17,
   "metadata": {},
   "outputs": [
    {
     "name": "stdout",
     "output_type": "stream",
     "text": [
      "Symmetric difference in features of Phone a with phone b : {'Waterproof', 'Fingerprint Sensor', 'Face Unlock'}\n",
      "Symmetric Difference in features of Phone b with phone a : {'Waterproof', 'Face Unlock', 'Fingerprint Sensor'}\n"
     ]
    }
   ],
   "source": [
    "phone_a_fea = {\"5G\", \"Wireless Charging\", \"Waterproof\", \"Face Unlock\"}\n",
    "phone_b_fea = {\"5G\", \"Wireless Charging\", \"Fingerprint Sensor\"}\n",
    "phone_c_fea = {\"4G\", \"Wireless Charging\", \"High Storage\"}\n",
    "\n",
    "\"\"\"\n",
    "Symmetric difference is 1st union of both sets and then minus the intersection of those sets\n",
    "\"\"\"\n",
    "\n",
    "print(f\"Symmetric difference in features of Phone a with phone b : {phone_a_fea.symmetric_difference(phone_b_fea)}\")\n",
    "print(f\"Symmetric Difference in features of Phone b with phone a : {phone_b_fea.symmetric_difference(phone_a_fea)}\") "
   ]
  },
  {
   "cell_type": "code",
   "execution_count": 18,
   "metadata": {},
   "outputs": [
    {
     "name": "stdout",
     "output_type": "stream",
     "text": [
      "Difference in features of Phone a with phone b using ^ operator : {'Waterproof', 'Fingerprint Sensor', 'Face Unlock'}\n",
      "Difference in features of Phone b with phone a using ^ operator : {'Waterproof', 'Face Unlock', 'Fingerprint Sensor'}\n"
     ]
    }
   ],
   "source": [
    "print(f\"Difference in features of Phone a with phone b using ^ operator : {phone_a_fea ^ phone_b_fea}\")\n",
    "print(f\"Difference in features of Phone b with phone a using ^ operator : {phone_b_fea ^ phone_a_fea}\")"
   ]
  },
  {
   "cell_type": "code",
   "execution_count": 19,
   "metadata": {},
   "outputs": [
    {
     "ename": "TypeError",
     "evalue": "set.symmetric_difference() takes exactly one argument (2 given)",
     "output_type": "error",
     "traceback": [
      "\u001b[1;31m---------------------------------------------------------------------------\u001b[0m",
      "\u001b[1;31mTypeError\u001b[0m                                 Traceback (most recent call last)",
      "Cell \u001b[1;32mIn[19], line 5\u001b[0m\n\u001b[0;32m      1\u001b[0m \u001b[38;5;124;03m\"\"\"\u001b[39;00m\n\u001b[0;32m      2\u001b[0m \u001b[38;5;124;03msymmetric differnece won't work while we pass multiple sets\u001b[39;00m\n\u001b[0;32m      3\u001b[0m \u001b[38;5;124;03m\"\"\"\u001b[39;00m\n\u001b[1;32m----> 5\u001b[0m \u001b[38;5;28mprint\u001b[39m(\u001b[38;5;124mf\u001b[39m\u001b[38;5;124m\"\u001b[39m\u001b[38;5;124mSymmetric difference in features of Phone a with phone b and phone c : \u001b[39m\u001b[38;5;132;01m{\u001b[39;00m\u001b[43mphone_a_fea\u001b[49m\u001b[38;5;241;43m.\u001b[39;49m\u001b[43msymmetric_difference\u001b[49m\u001b[43m(\u001b[49m\u001b[43mphone_b_fea\u001b[49m\u001b[43m,\u001b[49m\u001b[38;5;250;43m \u001b[39;49m\u001b[43mphone_c_fea\u001b[49m\u001b[43m)\u001b[49m\u001b[38;5;132;01m}\u001b[39;00m\u001b[38;5;124m\"\u001b[39m)\n",
      "\u001b[1;31mTypeError\u001b[0m: set.symmetric_difference() takes exactly one argument (2 given)"
     ]
    }
   ],
   "source": [
    "\"\"\"\n",
    "symmetric differnece won't work while we pass multiple sets\n",
    "\"\"\"\n",
    "\n",
    "print(f\"Symmetric difference in features of Phone a with phone b and phone c : {phone_a_fea.symmetric_difference(phone_b_fea, phone_c_fea)}\")"
   ]
  },
  {
   "cell_type": "code",
   "execution_count": 20,
   "metadata": {},
   "outputs": [
    {
     "name": "stdout",
     "output_type": "stream",
     "text": [
      "Symmetric difference in features of 'Phone a' with a tuple ('High Storage', '40  MP', '5G') : {'40  MP', 'Waterproof', 'Wireless Charging', 'Face Unlock', 'High Storage'}\n"
     ]
    }
   ],
   "source": [
    "print(f\"Symmetric difference in features of 'Phone a' with a tuple ('High Storage', '40  MP', '5G') : {phone_a_fea.symmetric_difference(('High Storage', '40  MP', '5G'))}\")"
   ]
  },
  {
   "cell_type": "code",
   "execution_count": 21,
   "metadata": {},
   "outputs": [
    {
     "name": "stdout",
     "output_type": "stream",
     "text": [
      "{'Waterproof', 'Fingerprint Sensor', 'Face Unlock'}\n",
      "{'Waterproof', 'Wireless Charging', '5G', 'Face Unlock'}\n"
     ]
    }
   ],
   "source": [
    "phone_b_fea.symmetric_difference_update(phone_a_fea)\n",
    "print(phone_b_fea)\n",
    "print(phone_a_fea)"
   ]
  },
  {
   "cell_type": "code",
   "execution_count": null,
   "metadata": {},
   "outputs": [],
   "source": []
  }
 ],
 "metadata": {
  "kernelspec": {
   "display_name": "Python 3",
   "language": "python",
   "name": "python3"
  },
  "language_info": {
   "codemirror_mode": {
    "name": "ipython",
    "version": 3
   },
   "file_extension": ".py",
   "mimetype": "text/x-python",
   "name": "python",
   "nbconvert_exporter": "python",
   "pygments_lexer": "ipython3",
   "version": "3.11.0"
  }
 },
 "nbformat": 4,
 "nbformat_minor": 2
}
