{
 "cells": [
  {
   "cell_type": "code",
   "execution_count": 3,
   "metadata": {},
   "outputs": [
    {
     "name": "stdout",
     "output_type": "stream",
     "text": [
      "(90, 89, -45, 60, -23, 17)\n",
      "('Srija', 'Sonali', 'Aditi', 'Akanksha', 'Rozina', 'Abshar', 'Pranita')\n",
      "(56, False, 'Precia', 3.44, 'Mahima', -0.089999)\n"
     ]
    }
   ],
   "source": [
    "tuple1= (90, 89, -45, 60, -23, 17)\n",
    "print(tuple1)\n",
    "\n",
    "tuple2 = ('Srija', 'Sonali', 'Aditi', 'Akanksha', 'Rozina', 'Abshar', 'Pranita')\n",
    "print(tuple2)\n",
    "\n",
    "tuple3 = (56, False, 'Precia', 3.44, 'Mahima', -0.089999)\n",
    "print(tuple3)"
   ]
  },
  {
   "cell_type": "code",
   "execution_count": 2,
   "metadata": {},
   "outputs": [
    {
     "name": "stdout",
     "output_type": "stream",
     "text": [
      "When we try to store a single value/element in a tuple like tuple4 = (1000) it's actually not a tuple, rather it gets stored as an integer intead of tuple, see tuple4 type = <class 'int'>\n",
      "\n",
      "But if we keep single value with a comma in a tuple, like tuple5 = (1000,) it gets stored as tuple, tuple5 type = <class 'tuple'>\n"
     ]
    }
   ],
   "source": [
    "tuple4 = (1000)\n",
    "print(f\"When we try to store a single value/element in a tuple like tuple4 = ({tuple4}) \\\n",
    "it's actually not a tuple, rather it gets stored as an integer intead of tuple, \\\n",
    "see tuple4 type = {type(tuple4)}\")\n",
    "\n",
    "print()\n",
    "\n",
    "tuple5 = (1000,)\n",
    "print(f\"But if we keep single value with a comma in a tuple, like tuple5 = {tuple5} \\\n",
    "it gets stored as tuple, tuple5 type = {type(tuple5)}\")"
   ]
  },
  {
   "cell_type": "code",
   "execution_count": 4,
   "metadata": {},
   "outputs": [
    {
     "name": "stdout",
     "output_type": "stream",
     "text": [
      "length of tuple3 =  6\n",
      "Element at 3rd index (4th position in tuple3) :  3.44\n"
     ]
    }
   ],
   "source": [
    "tuple3 = (56, False, 'Precia', 3.44, 'Mahima', -0.089999)\n",
    "print(\"length of tuple3 = \", len(tuple3))\n",
    "print(\"Element at 3rd index (4th position in tuple3) : \", tuple3[3])"
   ]
  },
  {
   "cell_type": "markdown",
   "metadata": {},
   "source": [
    "## Duplicates allowed ✅"
   ]
  },
  {
   "cell_type": "code",
   "execution_count": 35,
   "metadata": {},
   "outputs": [
    {
     "name": "stdout",
     "output_type": "stream",
     "text": [
      "tuple6 contains 2 names being repeated, tuple 6 =  ('Mahira', 'Fridous', 'Anurag', 'Sai', 'Mahira', 'Kunal', 'Anurag')\n",
      "2\n"
     ]
    }
   ],
   "source": [
    "tuple6 = (\"Mahira\", \"Fridous\", \"Anurag\", \"Sai\", \"Mahira\", \"Kunal\", \"Anurag\")\n",
    "print(\"tuple6 contains 2 names being repeated, tuple 6 = \", tuple6)\n",
    "print(tuple6.count('Anurag'))"
   ]
  },
  {
   "cell_type": "markdown",
   "metadata": {},
   "source": [
    "## Slicing"
   ]
  },
  {
   "cell_type": "code",
   "execution_count": 18,
   "metadata": {},
   "outputs": [
    {
     "name": "stdout",
     "output_type": "stream",
     "text": [
      "('Mahira', 'Kunal', 'Anurag')\n",
      "('Mahira', 'Fridous', 'Anurag', 'Sai', 'Mahira', 'Kunal', 'Anurag')\n",
      "('Mahira', 'Fridous', 'Anurag', 'Sai', 'Mahira')\n",
      "('Sai', 'Mahira', 'Kunal', 'Anurag')\n",
      "('Mahira', 'Anurag', 'Mahira', 'Anurag')\n",
      "('Mahira', 'Sai', 'Anurag')\n"
     ]
    }
   ],
   "source": [
    "tuple6 = (\"Mahira\", \"Fridous\", \"Anurag\", \"Sai\", \"Mahira\", \"Kunal\", \"Anurag\")\n",
    "print(tuple6[4:])\n",
    "print(tuple6[:])\n",
    "print(tuple6[:5])\n",
    "print(tuple6[3:])\n",
    "print(tuple6[::2])\n",
    "print(tuple6[::3])\n"
   ]
  },
  {
   "cell_type": "markdown",
   "metadata": {},
   "source": [
    "## Nested tuples!"
   ]
  },
  {
   "cell_type": "code",
   "execution_count": 23,
   "metadata": {},
   "outputs": [
    {
     "name": "stdout",
     "output_type": "stream",
     "text": [
      "(('Srija', 'Sonali', 'Aditi', 'Akanksha', 'Rozina', 'Abshar', 'Pranita'), (56, False, 'Precia', 3.44, 'Mahima', -0.089999), ('Sai', 'Mahira', 'Kunal', 'Anurag'))\n",
      "\n",
      "(('Srija', 'Sonali', 'Aditi', 'Akanksha', 'Rozina', 'Abshar', 'Pranita'), (56, False, 'Precia', 3.44, 'Mahima', -0.089999), ('Sai', 'Mahira', 'Kunal', 'Anurag'), 10, True, 'Tree')\n"
     ]
    }
   ],
   "source": [
    "tuple2 = ('Srija', 'Sonali', 'Aditi', 'Akanksha', 'Rozina', 'Abshar', 'Pranita')\n",
    "tuple3 = (56, False, 'Precia', 3.44, 'Mahima', -0.089999)\n",
    "tuple7 = (\"Sai\", \"Mahira\", \"Kunal\", \"Anurag\")\n",
    "\n",
    "tuple8 = (tuple2, tuple3, tuple7)\n",
    "print(tuple8)\n",
    "\n",
    "print()\n",
    "tuple9 = (tuple2, tuple3, tuple7, 10, True, \"Tree\")\n",
    "print(tuple9)"
   ]
  },
  {
   "cell_type": "markdown",
   "metadata": {},
   "source": [
    "## Indexing of nested tuples"
   ]
  },
  {
   "cell_type": "code",
   "execution_count": 29,
   "metadata": {},
   "outputs": [
    {
     "name": "stdout",
     "output_type": "stream",
     "text": [
      "len of tuple9 =  6\n",
      "('Srija', 'Sonali', 'Aditi', 'Akanksha', 'Rozina', 'Abshar', 'Pranita')\n",
      "((56, False, 'Precia', 3.44, 'Mahima', -0.089999), ('Sai', 'Mahira', 'Kunal', 'Anurag'))\n",
      "Pranita\n"
     ]
    }
   ],
   "source": [
    "tuple9 = (('Srija', 'Sonali', 'Aditi', 'Akanksha', 'Rozina', 'Abshar', 'Pranita'), (56, False, 'Precia', 3.44, 'Mahima', -0.089999), ('Sai', 'Mahira', 'Kunal', 'Anurag'), 10, True, 'Tree')\n",
    "print(\"len of tuple9 = \", len(tuple9))\n",
    "print(tuple9[0])\n",
    "print(tuple9[1:3])\n",
    "print(tuple9[0][6])"
   ]
  },
  {
   "cell_type": "markdown",
   "metadata": {},
   "source": [
    "## Concatenation of tuples"
   ]
  },
  {
   "cell_type": "code",
   "execution_count": 30,
   "metadata": {},
   "outputs": [
    {
     "name": "stdout",
     "output_type": "stream",
     "text": [
      "tuple8 =  (('Srija', 'Sonali', 'Aditi', 'Akanksha', 'Rozina', 'Abshar', 'Pranita'), (56, False, 'Precia', 3.44, 'Mahima', -0.089999), ('Sai', 'Mahira', 'Kunal', 'Anurag'))\n",
      "tuple10 =  ('Srija', 'Sonali', 'Aditi', 'Akanksha', 'Rozina', 'Abshar', 'Pranita', 56, False, 'Precia', 3.44, 'Mahima', -0.089999, 'Sai', 'Mahira', 'Kunal', 'Anurag')\n",
      "3\n",
      "17\n"
     ]
    }
   ],
   "source": [
    "tuple8 = (tuple2, tuple3, tuple7)\n",
    "tuple10 = tuple2 + tuple3 + tuple7\n",
    "print(\"tuple8 = \", tuple8)\n",
    "print(\"tuple10 = \", tuple10)\n",
    "print(len(tuple8))\n",
    "print(len(tuple10))\n"
   ]
  },
  {
   "cell_type": "markdown",
   "metadata": {},
   "source": [
    "## Min, Max, count and index of repeated values in tuples"
   ]
  },
  {
   "cell_type": "code",
   "execution_count": 34,
   "metadata": {},
   "outputs": [
    {
     "name": "stdout",
     "output_type": "stream",
     "text": [
      "min of tuple1 =  -45\n",
      "max of tuple1 =  90\n",
      "Count of tuple1 =  2\n"
     ]
    }
   ],
   "source": [
    "tuple1= (90, 89, -45, 60, -23, 17, 89)\n",
    "print(\"min of tuple1 = \", min(tuple1))\n",
    "print(\"max of tuple1 = \", max(tuple1))\n",
    "print(\"Count of tuple1 = \", tuple1.count(89)) # count gives how much duplicate values are there!"
   ]
  },
  {
   "cell_type": "code",
   "execution_count": 37,
   "metadata": {},
   "outputs": [
    {
     "name": "stdout",
     "output_type": "stream",
     "text": [
      "Count of tuple1 =  1\n",
      "Count of tuple1 =  6\n"
     ]
    }
   ],
   "source": [
    "print(\"Index of 1st 89 in tuple1 = \", tuple1.index(89))\n",
    "print(\"Index of next 89 in tuple1 = \", tuple1.index(89, 2))"
   ]
  },
  {
   "cell_type": "markdown",
   "metadata": {},
   "source": [
    "## Convert list to tuple"
   ]
  },
  {
   "cell_type": "code",
   "execution_count": 38,
   "metadata": {},
   "outputs": [
    {
     "name": "stdout",
     "output_type": "stream",
     "text": [
      "(45, True, 'Bird')\n"
     ]
    }
   ],
   "source": [
    "list1 = [45, True, \"Bird\"]\n",
    "tuple11 = tuple(list1)\n",
    "print(tuple11)"
   ]
  },
  {
   "cell_type": "markdown",
   "metadata": {},
   "source": [
    "## Tuple multiplication"
   ]
  },
  {
   "cell_type": "code",
   "execution_count": 39,
   "metadata": {},
   "outputs": [
    {
     "name": "stdout",
     "output_type": "stream",
     "text": [
      "(5, 10, 15, 5, 10, 15, 5, 10, 15)\n"
     ]
    }
   ],
   "source": [
    "tuple12 = (5, 10, 15)\n",
    "tuple13 = tuple12*3\n",
    "print(tuple13)"
   ]
  },
  {
   "cell_type": "code",
   "execution_count": null,
   "metadata": {},
   "outputs": [],
   "source": []
  }
 ],
 "metadata": {
  "kernelspec": {
   "display_name": "Python 3",
   "language": "python",
   "name": "python3"
  },
  "language_info": {
   "codemirror_mode": {
    "name": "ipython",
    "version": 3
   },
   "file_extension": ".py",
   "mimetype": "text/x-python",
   "name": "python",
   "nbconvert_exporter": "python",
   "pygments_lexer": "ipython3",
   "version": "3.11.0"
  }
 },
 "nbformat": 4,
 "nbformat_minor": 2
}
