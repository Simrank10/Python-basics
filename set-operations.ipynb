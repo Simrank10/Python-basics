{
 "cells": [
  {
   "cell_type": "markdown",
   "metadata": {},
   "source": [
    "## **Union of sets**"
   ]
  },
  {
   "cell_type": "code",
   "execution_count": 23,
   "metadata": {},
   "outputs": [],
   "source": [
    "film_genre = {\"Action\", \"Drama\", \"Horror\", \"Comedy\", \"Sci-Fi\", \"Romance\", \"Documentary\"}\n",
    "lit_genre = {\"Horror\", \"Adventure\", \"Essays\", \"Mystery\", \"Romance\", \"Biography\", \"Sci-Fi\"} # literature genre\n",
    "tv_genre = {\"Drama\", \"Reality TV\", \"Crime\", \"Sci-Fi\", \"Documentary\", \"Talk Shows\"}\n",
    "music_genre = {\"Rock\", \"Pop\", \"Jazz\", \"Classical\", \"Hip-Hop\", \"Electronic\", \"Folk\"}"
   ]
  },
  {
   "cell_type": "code",
   "execution_count": 24,
   "metadata": {},
   "outputs": [
    {
     "name": "stdout",
     "output_type": "stream",
     "text": [
      "Film genre union with literature genre using .union : {'Documentary', 'Drama', 'Romance', 'Comedy', 'Adventure', 'Essays', 'Horror', 'Sci-Fi', 'Mystery', 'Action', 'Biography'}\n",
      "Film genre union with tv genre using | operator : {'Documentary', 'Drama', 'Romance', 'Comedy', 'Reality TV', 'Horror', 'Sci-Fi', 'Talk Shows', 'Action', 'Crime'}\n"
     ]
    }
   ],
   "source": [
    "print(f\"Film genre union with literature genre using .union : {film_genre.union(lit_genre)}\")\n",
    "print(f\"Film genre union with tv genre using | operator : {film_genre | tv_genre}\")"
   ]
  },
  {
   "cell_type": "markdown",
   "metadata": {},
   "source": [
    "#### **In following code we used set1.union(\"passed mutliple sets to find union\") set1.**  \n",
    "#### **But this won't work the same with | opertor it will result into sets in a single tuple, which we didn't wished for!**"
   ]
  },
  {
   "cell_type": "code",
   "execution_count": 47,
   "metadata": {},
   "outputs": [
    {
     "name": "stdout",
     "output_type": "stream",
     "text": [
      "Union of film genre with literature genre, music genre and tv genre : \n",
      "{'Documentary', 'Drama', 'Romance', 'Comedy', 'Pop', 'Reality TV', 'Essays', 'Horror', 'Sci-Fi', 'Electronic', 'Talk Shows', 'Crime', 'Jazz', 'Rock', 'Adventure', 'Classical', 'Folk', 'Hip-Hop', 'Mystery', 'Action', 'Biography'}\n",
      "\n",
      "Film genre union with rest of the genre sets using | operator : ({'Documentary', 'Drama', 'Romance', 'Comedy', 'Reality TV', 'Horror', 'Sci-Fi', 'Talk Shows', 'Action', 'Crime'}, {'Romance', 'Sci-Fi', 'Mystery', 'Adventure', 'Biography', 'Essays', 'Horror'}, {'Documentary', 'Drama', 'Sci-Fi', 'Talk Shows', 'Reality TV', 'Crime'})\n",
      "\n",
      "The code - \u001b[43m\u001b[30m\u001b[1m'film_genre | tv_genre, lit_genre, tv_genre'\u001b[0m results into sets in a singe tuple which is not exactly the union between the sets,\n",
      "but if you could anlyse the output given.. the first set is actually the union and rest sets lit_genre, tv_genre are printed as it is!\n",
      "\n"
     ]
    }
   ],
   "source": [
    "print(f\"Union of film genre with literature genre, music genre and tv genre : \\n{film_genre.union(lit_genre, music_genre, tv_genre)}\")\n",
    "print()\n",
    "\n",
    "print(f\"Film genre union with rest of the genre sets using | operator : {film_genre | tv_genre, lit_genre, tv_genre}\")\n",
    "print()\n",
    "\n",
    "\n",
    "from colorama import init, Fore, Style, Back\n",
    "\n",
    "print(f\"The code - {Back.YELLOW}{Fore.BLACK}{Style.BRIGHT}'film_genre | tv_genre, lit_genre, tv_genre'{Style.RESET_ALL} results into sets in a singe tuple which is not exactly the union between the sets,\\\n",
    "\\nbut if you could anlyse the output given.. the first set is actually the union and rest sets lit_genre, tv_genre are printed as it is!\")\n",
    "print()"
   ]
  },
  {
   "cell_type": "markdown",
   "metadata": {},
   "source": [
    "#### **Union of a set with a tuple**"
   ]
  },
  {
   "cell_type": "code",
   "execution_count": 55,
   "metadata": {},
   "outputs": [
    {
     "name": "stdout",
     "output_type": "stream",
     "text": [
      "Union of film genre with a tuple (\"Historic-fic\", \"Drama\", \"Comedy\") music genre and tv genre : \n",
      "{'Documentary', 'Drama', 'Romance', 'Comedy', 'Sci-Fi', 'Hisctoric-fic', 'Action', 'Horror'}\n"
     ]
    }
   ],
   "source": [
    "print(f\"Union of film genre with a tuple (\\\"Historic-fic\\\", \\\"Drama\\\", \\\"Comedy\\\") music genre and tv genre : \\\n",
    "\\n{film_genre.union(('Hisctoric-fic', 'Drama', 'Comedy'))}\")"
   ]
  },
  {
   "cell_type": "markdown",
   "metadata": {},
   "source": [
    "#### **Union of sets with lists**"
   ]
  },
  {
   "cell_type": "code",
   "execution_count": 58,
   "metadata": {},
   "outputs": [
    {
     "name": "stdout",
     "output_type": "stream",
     "text": [
      "Union of film genre with a tuple (\"Historic-fic\", \"Drama\", \"Comedy\") music genre and tv genre : \n",
      "{'Documentary', 'Drama', 'Romance', 'Comedy', 'Sci-Fi', 'Hisctoric-fic', 'Action', 'Horror'}\n"
     ]
    }
   ],
   "source": [
    "print(f\"Union of film genre with a tuple (\\\"Historic-fic\\\", \\\"Drama\\\", \\\"Comedy\\\") music genre and tv genre : \\\n",
    "\\n{film_genre.union(['Hisctoric-fic', 'Drama', 'Comedy'])}\")"
   ]
  },
  {
   "cell_type": "code",
   "execution_count": 82,
   "metadata": {},
   "outputs": [
    {
     "name": "stdout",
     "output_type": "stream",
     "text": [
      "All different genre set : \n",
      "{'Documentary', 'Drama', 'Romance', 'Pop', 'Reality TV', 'Essays', 'Horror', 'Sci-Fi', 'Electronic', 'Talk Shows', 'Crime', 'Jazz', 'Rock', 'Adventure', 'Classical', 'Folk', 'Hip-Hop', 'Mystery', 'Biography'}\n"
     ]
    }
   ],
   "source": [
    "all_genres = film_genre.copy()\n",
    "all_genres.update(film_genre, music_genre, tv_genre, lit_genre)\n",
    "print(f\"All different genre set : \\n{all_genres}\")"
   ]
  },
  {
   "cell_type": "markdown",
   "metadata": {},
   "source": [
    "#### **Another way of updating a set using |**"
   ]
  },
  {
   "cell_type": "code",
   "execution_count": 84,
   "metadata": {},
   "outputs": [
    {
     "name": "stdout",
     "output_type": "stream",
     "text": [
      "{'Documentary', 'Drama', 'Sci-Fi', 'Talk Shows', 'Reality TV', 'Crime'}\n"
     ]
    }
   ],
   "source": [
    "all_possible_genres = film_genre.copy()\n",
    "all_possible_genres |= tv_genre\n",
    "print(all_possible_genres)"
   ]
  },
  {
   "cell_type": "markdown",
   "metadata": {},
   "source": [
    "#### **Updating a set using list**"
   ]
  },
  {
   "cell_type": "code",
   "execution_count": 69,
   "metadata": {},
   "outputs": [
    {
     "name": "stdout",
     "output_type": "stream",
     "text": [
      "{'Documentary', 'Drama', 'Romance', 'Comedy', 'Pop', 'Reality TV', 'Essays', 'Horror', 'historic_fic', 'Sci-Fi', 'Electronic', 'Talk Shows', 'Crime', 'Jazz', 'Rock', 'Adventure', 'Classical', 'Folk', 'Hip-Hop', 'Mystery', 'Action', 'Biography'}\n"
     ]
    }
   ],
   "source": [
    "all_genres.update(['historic_fic'])\n",
    "print(all_genres)"
   ]
  },
  {
   "cell_type": "markdown",
   "metadata": {},
   "source": [
    "## **Intersection of sets**"
   ]
  },
  {
   "cell_type": "code",
   "execution_count": 75,
   "metadata": {},
   "outputs": [
    {
     "name": "stdout",
     "output_type": "stream",
     "text": [
      "{'Romance', 'Horror', 'Sci-Fi'}\n",
      "{'Documentary', 'Drama', 'Sci-Fi'}\n",
      "set()\n",
      "set()\n"
     ]
    }
   ],
   "source": [
    "print(film_genre.intersection(lit_genre))\n",
    "print(film_genre & tv_genre)\n",
    "print(film_genre.intersection(['horror', 'fiction']))\n",
    "print(film_genre & tv_genre & music_genre & lit_genre)"
   ]
  },
  {
   "cell_type": "code",
   "execution_count": 80,
   "metadata": {},
   "outputs": [
    {
     "name": "stdout",
     "output_type": "stream",
     "text": [
      "{'Sci-Fi'}\n"
     ]
    }
   ],
   "source": [
    "film_genre.intersection_update(tv_genre)\n",
    "print(film_genre)"
   ]
  }
 ],
 "metadata": {
  "kernelspec": {
   "display_name": "Python 3",
   "language": "python",
   "name": "python3"
  },
  "language_info": {
   "codemirror_mode": {
    "name": "ipython",
    "version": 3
   },
   "file_extension": ".py",
   "mimetype": "text/x-python",
   "name": "python",
   "nbconvert_exporter": "python",
   "pygments_lexer": "ipython3",
   "version": "3.11.0"
  }
 },
 "nbformat": 4,
 "nbformat_minor": 2
}
