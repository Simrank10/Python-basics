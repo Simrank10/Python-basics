{
 "cells": [
  {
   "cell_type": "markdown",
   "metadata": {},
   "source": [
    "# **1. `break` loop control statement**"
   ]
  },
  {
   "cell_type": "markdown",
   "metadata": {},
   "source": [
    "### **1.1. `break` statement in `while` loop**"
   ]
  },
  {
   "cell_type": "markdown",
   "metadata": {},
   "source": [
    "#### **code 1**"
   ]
  },
  {
   "cell_type": "code",
   "execution_count": 90,
   "metadata": {},
   "outputs": [
    {
     "name": "stdout",
     "output_type": "stream",
     "text": [
      "0\n",
      "It's 1, didn't reached 5, yet!\n",
      "\n",
      "1\n",
      "It's 2, didn't reached 5, yet!\n",
      "\n",
      "2\n",
      "It's 3, didn't reached 5, yet!\n",
      "\n",
      "3\n",
      "It's 4, didn't reached 5, yet!\n",
      "\n",
      "4\n",
      "It's 5, didn't reached 5, yet!\n",
      "\n",
      "5\n",
      "\n",
      "Reached count = 6, breaking out of the loop.\n",
      "    Out from while loop!   \n"
     ]
    }
   ],
   "source": [
    "count = 0\n",
    "while count <= 10: \n",
    "    print(count)\n",
    "    count += 1\n",
    "    if count == 6:\n",
    "        print()\n",
    "        print(\"Reached count = 6, breaking out of the loop.\")\n",
    "        break\n",
    "    print(f\"It's {count}, didn't reached 5, yet!\")\n",
    "    print()\n",
    "print(\"    Out from while loop!   \")"
   ]
  },
  {
   "cell_type": "markdown",
   "metadata": {},
   "source": [
    "#### **code 2**"
   ]
  },
  {
   "cell_type": "code",
   "execution_count": 91,
   "metadata": {},
   "outputs": [
    {
     "name": "stdout",
     "output_type": "stream",
     "text": [
      "Current value of start: 0\n",
      "Current value of start: 1\n",
      "Current value of start: 2\n",
      "Current value of start: 3\n",
      "Current value of start: 4\n",
      "Current value of start: 5\n",
      "Current value of start: 6\n",
      "Current value of start: 7\n",
      "Current value of start: 8\n",
      "Current value of start: 9\n",
      "Current value of start: 10\n",
      "Current value of start: 11\n",
      "Current value of start: 12\n",
      "\n",
      "     Reached start = 13, breaking out of the loop!\n",
      "     Out of while loop\n"
     ]
    }
   ],
   "source": [
    "start = 0\n",
    "end = 21\n",
    "\n",
    "while start < end:\n",
    "    print(f\"Current value of start: {start}\")\n",
    "    start += 1\n",
    "    if start == 13:\n",
    "        print()\n",
    "        print(f\"     Reached start = {start}, breaking out of the loop!\")\n",
    "        break\n",
    "print(\"     Out of while loop\")"
   ]
  },
  {
   "cell_type": "markdown",
   "metadata": {},
   "source": [
    "### **1.2. `break` statement in `for` loop**"
   ]
  },
  {
   "cell_type": "markdown",
   "metadata": {},
   "source": [
    "#### **code 1**"
   ]
  },
  {
   "cell_type": "code",
   "execution_count": 92,
   "metadata": {},
   "outputs": [
    {
     "name": "stdout",
     "output_type": "stream",
     "text": [
      "Hey James\n",
      "Hey Louis\n",
      "Hey Stan\n",
      "Hey Joe\n",
      "\n",
      "     OUT FROM INNER LOOP!\n",
      "\n",
      "Welcome James\n",
      "Welcome Louis\n",
      "\n",
      "     Breaking the loop when i = 'Welcome' and j = 'Louis'\n",
      "\n",
      "     OUT FROM INNER LOOP!\n",
      "\n",
      "Nice to meet you,  James\n",
      "Nice to meet you,  Louis\n",
      "Nice to meet you,  Stan\n",
      "Nice to meet you,  Joe\n",
      "\n",
      "     OUT FROM INNER LOOP!\n",
      "\n",
      "     OUT FROM OUTER LOOP!!\n"
     ]
    }
   ],
   "source": [
    "list1 = [\"Hey\", \"Welcome\", \"Nice to meet you, \"]\n",
    "names = [\"James\", \"Louis\", \"Stan\", \"Joe\"]\n",
    "\n",
    "for i in list1:\n",
    "    for j in names:\n",
    "        print(i, j)\n",
    "        if i == \"Welcome\" and j == \"Louis\":\n",
    "            print()\n",
    "            print(f\"     Breaking the loop when i = 'Welcome' and j = 'Louis'\")\n",
    "            break\n",
    "    print()\n",
    "    print(\"     OUT FROM INNER LOOP!\")\n",
    "    print()\n",
    "print(\"     OUT FROM OUTER LOOP!!\")"
   ]
  },
  {
   "cell_type": "markdown",
   "metadata": {},
   "source": [
    "#### **code 2**"
   ]
  },
  {
   "cell_type": "code",
   "execution_count": 154,
   "metadata": {},
   "outputs": [
    {
     "name": "stdout",
     "output_type": "stream",
     "text": [
      "1\n",
      "2\n",
      "3\n",
      "4\n",
      "5\n",
      "6\n",
      "7\n",
      "8\n",
      "9\n",
      "10\n",
      "11\n",
      "12\n",
      "13\n",
      "14\n",
      "15\n",
      "16\n",
      "17\n",
      "   Reached 17, which is divisible by 17.\n",
      "\n",
      "   Out of for loop!\n"
     ]
    }
   ],
   "source": [
    "for i in range(1, 21):\n",
    "    print(i)\n",
    "    if i%17 == 0:\n",
    "        print(f\"   Reached {i}, which is divisible by 17.\")\n",
    "        break\n",
    "print()\n",
    "print(\"   Out of for loop!\")"
   ]
  },
  {
   "cell_type": "markdown",
   "metadata": {},
   "source": [
    "# **2. `continue` loop control statement**"
   ]
  },
  {
   "cell_type": "markdown",
   "metadata": {},
   "source": [
    "### **2.1. `continue` statement in `while` loop**"
   ]
  },
  {
   "cell_type": "markdown",
   "metadata": {},
   "source": [
    "#### **code 1**"
   ]
  },
  {
   "cell_type": "code",
   "execution_count": 124,
   "metadata": {},
   "outputs": [
    {
     "name": "stdout",
     "output_type": "stream",
     "text": [
      "\n",
      "Current count: 1\n",
      "Count after increment = 2\n",
      "\n",
      "Current count: 2\n",
      "Count after increment = 3\n",
      "\n",
      "Current count: 3\n",
      "Count after increment = 4\n",
      "\n",
      "Current count: 4\n",
      "\n",
      "     Count reached 5, skipping the next print statement\n",
      "     When count reaches 5, it skips the 'welcome 5'\n",
      "\n",
      "Current count: 5\n",
      "Count after increment = 6\n",
      "\n",
      "Current count: 6\n",
      "Count after increment = 7\n",
      "\n",
      "Current count: 7\n",
      "Count after increment = 8\n",
      "\n",
      "Current count: 8\n",
      "Count after increment = 9\n",
      "\n",
      "   OUT FROM WHILE LOOP!\n"
     ]
    }
   ],
   "source": [
    "count = 1\n",
    "while count <= 8:\n",
    "    print()\n",
    "    print(f\"Current count: {count}\")\n",
    "    \n",
    "    count += 1\n",
    "    #print(f\"Count after increment: {count}\")\n",
    "    \n",
    "    if count == 5:\n",
    "        print()\n",
    "        print(f\"     Count reached {count}, skipping the next print statement\")\n",
    "        print(f\"     When count reaches {count}, it skips the 'welcome {count}'\")\n",
    "        continue\n",
    "    \n",
    "    print(f\"Count after increment = {count}\")\n",
    "print()\n",
    "print(\"   OUT FROM WHILE LOOP!\")"
   ]
  },
  {
   "cell_type": "markdown",
   "metadata": {},
   "source": [
    "#### **code 2**"
   ]
  },
  {
   "cell_type": "code",
   "execution_count": 135,
   "metadata": {},
   "outputs": [
    {
     "name": "stdout",
     "output_type": "stream",
     "text": [
      "    Number = 1 and when 1 is divided by 4, remainder is 1!\n",
      "Number = 2\n",
      "Number = 3\n",
      "Number = 4\n",
      "    Number = 5 and when 5 is divided by 4, remainder is 1!\n",
      "Number = 6\n",
      "Number = 7\n",
      "Number = 8\n",
      "    Number = 9 and when 9 is divided by 4, remainder is 1!\n",
      "Number = 10\n",
      "Number = 11\n",
      "Number = 12\n",
      "    Number = 13 and when 13 is divided by 4, remainder is 1!\n",
      "Number = 14\n",
      "Number = 15\n",
      "Number = 16\n",
      "    Number = 17 and when 17 is divided by 4, remainder is 1!\n",
      "Number = 18\n",
      "Number = 19\n",
      "Number = 20\n",
      "    Number = 21 and when 21 is divided by 4, remainder is 1!\n",
      "\n",
      "  OUT FROM WHILE LOOP!\n"
     ]
    }
   ],
   "source": [
    "i = 0\n",
    "while i <= 20:\n",
    "    i += 1\n",
    "    if i%4 == 1:\n",
    "        print(f\"    Number = {i} and when {i} is divided by 4, remainder is 1!\")\n",
    "        continue\n",
    "    print(f\"Number = {i}\")\n",
    "print()\n",
    "print(\"  OUT FROM WHILE LOOP!\")"
   ]
  },
  {
   "cell_type": "markdown",
   "metadata": {},
   "source": [
    "### **2.2. `continue` statement in `for` loop**"
   ]
  },
  {
   "cell_type": "markdown",
   "metadata": {},
   "source": [
    "#### **code 1**"
   ]
  },
  {
   "cell_type": "code",
   "execution_count": 37,
   "metadata": {},
   "outputs": [
    {
     "name": "stdout",
     "output_type": "stream",
     "text": [
      "Inner loop: Hey and James\n",
      "Hey and James are getting printed!\n",
      "\n",
      "Inner loop: Hey and Louis\n",
      "Hey and Louis are getting printed!\n",
      "\n",
      "Inner loop: Hey and Stan\n",
      "Hey and Stan are getting printed!\n",
      "\n",
      "Inner loop: Hey and Joe\n",
      "Hey and Joe are getting printed!\n",
      "\n",
      "    FINISHED INNER LOOP FOR Hey\n",
      "\n",
      "Inner loop: Welcome and James\n",
      "Welcome and James are getting printed!\n",
      "\n",
      "Inner loop: Welcome and Louis\n",
      "     SKIPPING THE PRINT FOR (Welcome, Louis) DUE TO CONTINUE\n",
      "Inner loop: Welcome and Stan\n",
      "Welcome and Stan are getting printed!\n",
      "\n",
      "Inner loop: Welcome and Joe\n",
      "Welcome and Joe are getting printed!\n",
      "\n",
      "    FINISHED INNER LOOP FOR Welcome\n",
      "\n",
      "\n",
      "OUT FROM OUTER FOR LOOP!\n"
     ]
    }
   ],
   "source": [
    "list1 = [\"Hey\", \"Welcome\"]\n",
    "names = [\"James\", \"Louis\", \"Stan\", \"Joe\"]\n",
    "\n",
    "for i in list1:\n",
    "    for j in names:\n",
    "        print(f\"Inner loop: {i} and {j}\")\n",
    "        if i == \"Welcome\" and j == \"Louis\":\n",
    "            print(f\"     SKIPPING THE PRINT FOR ({i}, {j}) DUE TO CONTINUE\")\n",
    "            continue\n",
    "        print(f\"{i} and {j} are getting printed!\")\n",
    "        print()\n",
    "    \n",
    "    print(f\"    FINISHED INNER LOOP FOR {i}\")\n",
    "    print()\n",
    "    \n",
    "print(\"\\nOUT FROM OUTER FOR LOOP!\")"
   ]
  },
  {
   "cell_type": "markdown",
   "metadata": {},
   "source": [
    "#### **code 2**"
   ]
  },
  {
   "cell_type": "code",
   "execution_count": 149,
   "metadata": {},
   "outputs": [
    {
     "name": "stdout",
     "output_type": "stream",
     "text": [
      "Number = 0\n",
      "    1 when divided by 4 leaves remainder of 1\n",
      "Number = 2\n",
      "Number = 3\n",
      "Number = 4\n",
      "    5 when divided by 4 leaves remainder of 1\n",
      "Number = 6\n",
      "Number = 7\n",
      "    8 when divided by 7 leaves remainder of 1\n",
      "    9 when divided by 4 leaves remainder of 1\n",
      "Number = 10\n",
      "Number = 11\n",
      "Number = 12\n",
      "    13 when divided by 4 leaves remainder of 1\n",
      "Number = 14\n",
      "    15 when divided by 7 leaves remainder of 1\n",
      "Number = 16\n",
      "    17 when divided by 4 leaves remainder of 1\n",
      "Number = 18\n",
      "Number = 19\n",
      "Number = 20\n",
      "\n",
      "     OUT FROM FOR LOOP!\n"
     ]
    }
   ],
   "source": [
    "for i in range(0, 21):\n",
    "    if i%4 == 1:\n",
    "        print(f\"    {i} when divided by 4 leaves remainder of 1\")\n",
    "        continue\n",
    "    elif i%7 == 1:\n",
    "        print(f\"    {i} when divided by 7 leaves remainder of 1\")\n",
    "        continue\n",
    "    print(f\"Number = {i}\")\n",
    "print()\n",
    "print(\"     OUT FROM FOR LOOP!\")"
   ]
  },
  {
   "cell_type": "markdown",
   "metadata": {},
   "source": [
    "#### **code 3**"
   ]
  },
  {
   "cell_type": "code",
   "execution_count": 34,
   "metadata": {},
   "outputs": [
    {
     "name": "stdout",
     "output_type": "stream",
     "text": [
      "Number =  10\n",
      "Number =  11\n",
      "Number =  12\n",
      "Number =  13\n",
      "Number =  14\n",
      "Number =  15\n",
      "Number =  16\n",
      "Number =  17\n",
      "Number =  18\n",
      "Number =  19\n",
      "\n",
      "Number =  21\n",
      "Number =  22\n",
      "Number =  23\n",
      "Number =  24\n",
      "Number =  25\n",
      "Number =  26\n",
      "Number =  27\n",
      "Number =  28\n",
      "Number =  29\n",
      "Number =  30\n"
     ]
    }
   ],
   "source": [
    "for i in range(10, 31):\n",
    "    if i == 20:\n",
    "        print()\n",
    "        #print(f\"    Number = {i}, it will be skipped\")\n",
    "        continue\n",
    "    else:\n",
    "        print(\"Number = \", i)"
   ]
  },
  {
   "cell_type": "markdown",
   "metadata": {},
   "source": [
    "#### **code 4**"
   ]
  },
  {
   "cell_type": "code",
   "execution_count": 33,
   "metadata": {},
   "outputs": [
    {
     "name": "stdout",
     "output_type": "stream",
     "text": [
      "900 is positive number!\n",
      "\n",
      "          # *-340 is less than or equal to 0 and it should be skipped*\n",
      "\n",
      "53 is positive number!\n",
      "26 is positive number!\n",
      "\n",
      "          # *0 is less than or equal to 0 and it should be skipped*\n",
      "\n",
      "\n",
      "          # *-41 is less than or equal to 0 and it should be skipped*\n",
      "\n",
      "78 is positive number!\n",
      "\n",
      "          # *-6433 is less than or equal to 0 and it should be skipped*\n",
      "\n"
     ]
    }
   ],
   "source": [
    "list1 = [900, -340, 53, 26, 0, -41, 78, -6433]\n",
    "for i in list1:\n",
    "    if i <= 0:\n",
    "        print()\n",
    "        print(f\"          # *{i} is less than or equal to 0 and it should be skipped*\")\n",
    "        print()\n",
    "        continue\n",
    "    print(i, \"is positive number!\")"
   ]
  },
  {
   "cell_type": "markdown",
   "metadata": {},
   "source": [
    "# **3. `pass` loop control statement**"
   ]
  },
  {
   "cell_type": "markdown",
   "metadata": {},
   "source": [
    "> *The `pass` statement is a placeholder that does nothing. It is often used when you need a syntactically correct statement but don’t want to execute any code yet.*"
   ]
  },
  {
   "cell_type": "markdown",
   "metadata": {},
   "source": [
    "### **3.1. `pass` statement in `while` loop**"
   ]
  },
  {
   "cell_type": "markdown",
   "metadata": {},
   "source": [
    "#### **code 1**"
   ]
  },
  {
   "cell_type": "code",
   "execution_count": 30,
   "metadata": {},
   "outputs": [
    {
     "name": "stdout",
     "output_type": "stream",
     "text": [
      "1\n",
      "2\n",
      "3\n",
      "4\n",
      "5\n",
      "  |count = 6 will print *if condition* normally|\n",
      "6\n",
      "7\n",
      "8\n",
      "9\n",
      "10\n"
     ]
    }
   ],
   "source": [
    "count = 0\n",
    "while count < 10:\n",
    "    count += 1\n",
    "    if count == 6:\n",
    "        print(\"  |count = 6 will print *if condition* normally|\")\n",
    "        pass\n",
    "    print(count)"
   ]
  },
  {
   "cell_type": "markdown",
   "metadata": {},
   "source": [
    "#### **code 2**"
   ]
  },
  {
   "cell_type": "code",
   "execution_count": 25,
   "metadata": {},
   "outputs": [
    {
     "name": "stdout",
     "output_type": "stream",
     "text": [
      "1\n",
      "2\n",
      "3\n",
      "4\n",
      "5\n",
      "\n",
      "7\n",
      "8\n",
      "9\n",
      "10\n"
     ]
    }
   ],
   "source": [
    "count = 0\n",
    "while count < 10:\n",
    "    count += 1\n",
    "    if count == 6:\n",
    "        print()\n",
    "        #print(\"  |count = 6 will print if condition normally|\")\n",
    "        pass\n",
    "    else:\n",
    "        print(count)"
   ]
  },
  {
   "cell_type": "markdown",
   "metadata": {},
   "source": [
    "### **3.2. `pass` statement in `for` loop**"
   ]
  },
  {
   "cell_type": "markdown",
   "metadata": {},
   "source": [
    "#### **code 1**"
   ]
  },
  {
   "cell_type": "code",
   "execution_count": 174,
   "metadata": {},
   "outputs": [
    {
     "name": "stdout",
     "output_type": "stream",
     "text": [
      "Processing 0\n",
      "Processing 1\n",
      "           *i == 2 runs but does nothing*\n",
      "Processing 2\n",
      "Processing 3\n",
      "Processing 4\n",
      "Processing 5\n",
      "Processing 6\n",
      "Processing 7\n",
      "Processing 8\n",
      "Processing 9\n"
     ]
    }
   ],
   "source": [
    "for i in range(10):\n",
    "    if i == 2:\n",
    "        print(f\"           *i == 2 runs but does nothing*\")\n",
    "        pass\n",
    "    print(f\"Processing {i}\")"
   ]
  },
  {
   "cell_type": "markdown",
   "metadata": {},
   "source": [
    "#### **code 2**"
   ]
  },
  {
   "cell_type": "code",
   "execution_count": 29,
   "metadata": {},
   "outputs": [
    {
     "name": "stdout",
     "output_type": "stream",
     "text": [
      "Processing 0\n",
      "Processing 1\n",
      "\n",
      "# When i == 2, the pass statement runs but does nothing, effectively skipping that iteration without breaking the loop\n",
      "\n",
      "Processing 3\n",
      "Processing 4\n"
     ]
    }
   ],
   "source": [
    "for i in range(5):\n",
    "    if i == 2:\n",
    "        print()\n",
    "        print(\"# When i == 2, the pass statement runs but does nothing, effectively skipping that iteration without breaking the loop\")\n",
    "        print()\n",
    "        pass\n",
    "    else:\n",
    "        print(f\"Processing {i}\")"
   ]
  }
 ],
 "metadata": {
  "kernelspec": {
   "display_name": "Python 3",
   "language": "python",
   "name": "python3"
  },
  "language_info": {
   "codemirror_mode": {
    "name": "ipython",
    "version": 3
   },
   "file_extension": ".py",
   "mimetype": "text/x-python",
   "name": "python",
   "nbconvert_exporter": "python",
   "pygments_lexer": "ipython3",
   "version": "3.11.0"
  }
 },
 "nbformat": 4,
 "nbformat_minor": 2
}
